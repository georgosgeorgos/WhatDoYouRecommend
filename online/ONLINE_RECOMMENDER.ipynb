{
 "cells": [
  {
   "cell_type": "code",
   "execution_count": 1,
   "metadata": {
    "collapsed": true
   },
   "outputs": [],
   "source": [
    "import re\n",
    "import csv\n",
    "import time\n",
    "import nltk\n",
    "import json\n",
    "import string\n",
    "import webbrowser\n",
    "import numpy as np\n",
    "import pandas as pd\n",
    "from nltk import stem\n",
    "import sklearn.metrics\n",
    "from random import randint\n",
    "from numpy.linalg import norm\n",
    "from nltk.corpus import stopwords\n",
    "from nltk.stem import WordNetLemmatizer"
   ]
  },
  {
   "cell_type": "markdown",
   "metadata": {},
   "source": [
    "# libraries"
   ]
  },
  {
   "cell_type": "code",
   "execution_count": 2,
   "metadata": {
    "collapsed": false
   },
   "outputs": [],
   "source": [
    "from library_query import *\n",
    "from library_content_based import *\n",
    "from library_collaborative_filtering import *"
   ]
  },
  {
   "cell_type": "markdown",
   "metadata": {},
   "source": [
    "# general data"
   ]
  },
  {
   "cell_type": "code",
   "execution_count": 3,
   "metadata": {
    "collapsed": false
   },
   "outputs": [
    {
     "name": "stdout",
     "output_type": "stream",
     "text": [
      "Ok\n"
     ]
    }
   ],
   "source": [
    "books_dataFrame = pd.read_csv(\"../Preprocess/books_dataFrame.csv\", index_col=0)\n",
    "\n",
    "\n",
    "with open('../ContentBased/userDict.json', 'r') as fp:\n",
    "    \n",
    "    userDict = json.load(fp)\n",
    "    \n",
    "with open('../ContentBased/isbnDict.json', 'r') as fp:\n",
    "    \n",
    "    isbnDict = json.load(fp)\n",
    "    \n",
    "    \n",
    "with open('../ContentBased/inverted_index/featuresDict_new.json', 'r') as fp:\n",
    "    \n",
    "    featuresDict = json.load(fp)\n",
    "    \n",
    "    \n",
    "with open('../ContentBased/inverted_index/booksDict_new.json', 'r') as fp:\n",
    "    \n",
    "    booksDict = json.load(fp)\n",
    "    \n",
    "with open('../ContentBased/inverted_index/usersDict_new.json', 'r') as fp:\n",
    "    \n",
    "    usersDict = json.load(fp)\n",
    "    \n",
    "with open('../ContentBased/inverted_index/inverted_index.json', 'r') as fp:\n",
    "    \n",
    "    inverted_index = json.load(fp)\n",
    "    \n",
    "print(\"Ok\")"
   ]
  },
  {
   "cell_type": "markdown",
   "metadata": {},
   "source": [
    "# content based data"
   ]
  },
  {
   "cell_type": "code",
   "execution_count": 4,
   "metadata": {
    "collapsed": false
   },
   "outputs": [
    {
     "name": "stdout",
     "output_type": "stream",
     "text": [
      "Ok\n"
     ]
    }
   ],
   "source": [
    "with open('../ContentBased/Content_based/books.json', 'r') as fp:\n",
    "    \n",
    "    books = json.load(fp)\n",
    "    \n",
    "with open('../ContentBased/Content_based/users.json', 'r') as fp:\n",
    "    \n",
    "    users = json.load(fp)\n",
    "    \n",
    "    \n",
    "with open('../ContentBased/Content_based/mostRated.json', 'r') as fp:\n",
    "    \n",
    "    mostRated = json.load(fp)\n",
    "    \n",
    "print(\"Ok\")"
   ]
  },
  {
   "cell_type": "markdown",
   "metadata": {},
   "source": [
    "# collaborative filtering data"
   ]
  },
  {
   "cell_type": "code",
   "execution_count": 5,
   "metadata": {
    "collapsed": false
   },
   "outputs": [
    {
     "name": "stdout",
     "output_type": "stream",
     "text": [
      "Ok\n"
     ]
    }
   ],
   "source": [
    "with open('../CollaborativeFiltering/new_userDict.json', 'r') as fp:\n",
    "    \n",
    "    new_userDict = json.load(fp)\n",
    "    \n",
    "# select only books in isbnDict rated by more that three users with a non-zero rating    \n",
    "    \n",
    "with open('../CollaborativeFiltering/new_isbnDict.json', 'r') as fp:\n",
    "    \n",
    "    new_isbnDict = json.load(fp)\n",
    "    \n",
    "    \n",
    "with open('../CollaborativeFiltering/dict_row.json', 'r') as fp:\n",
    "    \n",
    "    dict_row = json.load(fp)\n",
    "    \n",
    "    \n",
    "with open('../CollaborativeFiltering/dict_col.json', 'r') as fp:\n",
    "    \n",
    "    dict_col = json.load(fp)\n",
    "    \n",
    "    \n",
    "with open('../CollaborativeFiltering/clustering/file/clusters_dict_row.json', 'r') as fp:\n",
    "    \n",
    "    clusters_dict_row = json.load(fp)\n",
    "       \n",
    "with open('../CollaborativeFiltering/clustering/file/clusters_dict_col.json', 'r') as fp:\n",
    "    \n",
    "    clusters_dict_col = json.load(fp)\n",
    "    \n",
    "\n",
    "with open('../CollaborativeFiltering/clustering/index_book_user_clusters/index_user_cluster.json', 'r') as fp:\n",
    "    \n",
    "    index_user_cluster = json.load(fp)\n",
    "    \n",
    "    \n",
    "with open('../CollaborativeFiltering/clustering/index_book_user_clusters/index_book_cluster.json', 'r') as fp:\n",
    "    \n",
    "    index_book_cluster = json.load(fp)\n",
    "    \n",
    "    \n",
    "with open('../CollaborativeFiltering/clustering/CLUSTERS_ITEMS.json', 'r') as fp:\n",
    "    \n",
    "    CLUSTERS_ITEMS = json.load(fp)\n",
    "    \n",
    "    \n",
    "with open('../CollaborativeFiltering/clustering/CLUSTERS_USERS.json', 'r') as fp:\n",
    "    \n",
    "    CLUSTERS_USERS = json.load(fp)\n",
    "    \n",
    "print(\"Ok\")"
   ]
  },
  {
   "cell_type": "markdown",
   "metadata": {},
   "source": [
    "# useful data"
   ]
  },
  {
   "cell_type": "code",
   "execution_count": 6,
   "metadata": {
    "collapsed": false
   },
   "outputs": [
    {
     "name": "stdout",
     "output_type": "stream",
     "text": [
      "Ok\n"
     ]
    }
   ],
   "source": [
    "u_cluster, R_cluster, utility_DataFrame_cluster = computeMatrices(CLUSTERS_USERS,CLUSTERS_ITEMS,\n",
    "                                                                           CLUSTERS_USERS,CLUSTERS_ITEMS,\n",
    "                                                                            clusters_dict_row,clusters_dict_col)\n",
    "\n",
    "\n",
    "u, R, utility_DataFrame = computeMatrices(new_userDict,new_isbnDict,new_userDict,new_isbnDict,dict_row,dict_col)\n",
    "\n",
    "d_user_content = sorted(userDict.keys())\n",
    "d_isbn_content = sorted(isbnDict.keys())\n",
    "\n",
    "print(\"Ok\")"
   ]
  },
  {
   "cell_type": "markdown",
   "metadata": {},
   "source": [
    "# recommender system"
   ]
  },
  {
   "cell_type": "code",
   "execution_count": 28,
   "metadata": {
    "collapsed": false
   },
   "outputs": [
    {
     "name": "stdout",
     "output_type": "stream",
     "text": [
      "\n",
      "Do you want a recommendation?\n",
      "\n",
      "y\n",
      "n\n",
      "\n",
      "y\n",
      "\n",
      "What method do you want to use?\n",
      "\n",
      "0 Content Based\n",
      "1 Collaborative Filtering\n",
      "\n",
      "1\n",
      "What method do you want to try?\n",
      "\n",
      "1 CollaborativeFilteringItemItems using clustering\n",
      "2 CollaborativeFilteringItemUsers using clustering\n",
      "3 CollaborativeFiltering clustering approach\n",
      "3\n",
      "Please choose a user and/or an item\n",
      "\n",
      "user or random user: \n",
      "\n",
      "\n",
      "Do you want to search by ISBN or by words?\n",
      "\n",
      "0 by ISBN\n",
      "1 by words\n",
      "1\n",
      "Search book:\n",
      "\n",
      "The Runaway Jury\n",
      "Please wait...\n",
      "What do you prefer?\n",
      "\n",
      "0 The Runaway Jury\n",
      "1 The Runaway Heart (Runaway Heart)\n",
      "2 Die Jury. Roman.\n",
      "3 The Winds Of Change: A Richard Jury Novel (Richard Jury Mysteries (Hardcover))\n",
      "4 The Blue Last: A Richard Jury Mystery (Richard Jury Mysteries (Paperback))\n",
      "5 Sweet Valley High #21: Runaway (Sweet Valley High (Numbered Paperback))\n",
      "6 The Blue Last: A Richard Jury Mystery\n",
      "7 Rainbow's End: A Richard Jury Novel\n",
      "8 Runaway Brides (By Request)\n",
      "9 The Dirty Duck (Richard Jury Mysteries (Paperback))\n",
      "10 Emily's Runaway Imagination\n",
      "11 Runaways (Orphans)\n",
      "12 The Mystery of the Runaway Ghost (Boxcar Children Mysteries)\n",
      "13 The Old Fox Deceiv'D: A Richard Jury Novel\n",
      "0\n",
      "\n",
      "The predicted rating (using using only clusterization) for book < The Runaway Jury  > written by < John Grisham > given by user < 17569 > is 7.235 \n",
      "\n",
      "\n",
      "Do you want a recommendation?\n",
      "\n",
      "y\n",
      "n\n",
      "\n",
      "y\n",
      "\n",
      "What method do you want to use?\n",
      "\n",
      "0 Content Based\n",
      "1 Collaborative Filtering\n",
      "\n",
      "1\n",
      "What method do you want to try?\n",
      "\n",
      "1 CollaborativeFilteringItemItems using clustering\n",
      "2 CollaborativeFilteringItemUsers using clustering\n",
      "3 CollaborativeFiltering clustering approach\n",
      "3\n",
      "Please choose a user and/or an item\n",
      "\n",
      "user or random user: \n",
      "\n",
      "\n",
      "Do you want to search by ISBN or by words?\n",
      "\n",
      "0 by ISBN\n",
      "1 by words\n",
      "1\n",
      "Search book:\n",
      "\n",
      "The Runaway Jury\n",
      "Please wait...\n",
      "What do you prefer?\n",
      "\n",
      "0 The Runaway Jury\n",
      "1 The Runaway Heart (Runaway Heart)\n",
      "2 Die Jury. Roman.\n",
      "3 The Winds Of Change: A Richard Jury Novel (Richard Jury Mysteries (Hardcover))\n",
      "4 The Blue Last: A Richard Jury Mystery (Richard Jury Mysteries (Paperback))\n",
      "5 Sweet Valley High #21: Runaway (Sweet Valley High (Numbered Paperback))\n",
      "6 The Blue Last: A Richard Jury Mystery\n",
      "7 Rainbow's End: A Richard Jury Novel\n",
      "8 Runaway Brides (By Request)\n",
      "9 The Dirty Duck (Richard Jury Mysteries (Paperback))\n",
      "10 Emily's Runaway Imagination\n",
      "11 Runaways (Orphans)\n",
      "12 The Mystery of the Runaway Ghost (Boxcar Children Mysteries)\n",
      "13 The Old Fox Deceiv'D: A Richard Jury Novel\n",
      "0\n",
      "\n",
      "The predicted rating (using using only clusterization) for book < The Runaway Jury  > written by < John Grisham > given by user < 41985 > is 7.519 \n",
      "\n",
      "\n",
      "Do you want a recommendation?\n",
      "\n",
      "y\n",
      "n\n",
      "\n",
      "n\n",
      "Bye\n"
     ]
    }
   ],
   "source": [
    "r = -1\n",
    "while True:\n",
    "    while r not in [\"y\",\"n\"]:\n",
    "        print(\"\\nDo you want a recommendation?\\n\")\n",
    "        print(\"y\")\n",
    "        print(\"n\\n\")\n",
    "        r = input()\n",
    "    if r == \"y\":\n",
    "        while r not in [0,1]:\n",
    "            print(\"\\nWhat method do you want to use?\\n\")\n",
    "            print(\"0 Content Based\")\n",
    "            print(\"1 Collaborative Filtering\\n\")\n",
    "            r = int(input())\n",
    "        if r == 0:\n",
    "            try:\n",
    "                user_number,recommendation = mainContentBased(featuresDict,userDict,isbnDict,users,books,\n",
    "                                                              d_user_content,d_isbn_content,books_dataFrame,mostRated,0.2)\n",
    "                try:\n",
    "                    buy(recommendation,mostRated,books_dataFrame)\n",
    "                except:\n",
    "                    print(\"Sorry out of memory\")\n",
    "                \n",
    "            except:\n",
    "                print(\"you are a new user(Cold Star). We can only recommend you the most popular books in our database:\\n\")\n",
    "                for i in mostRated:\n",
    "                    print(books_dataFrame[\"Book-Title\"][i[0]])\n",
    "        elif r == 1:\n",
    "            mainCollaborativeFiltering_CLUSTERING(books_dataFrame, utility_DataFrame, utility_DataFrame_cluster,R_cluster, new_userDict, new_isbnDict,\n",
    "                                          index_user_cluster, index_book_cluster,isbnDict, featuresDict,booksDict,inverted_index,mostRated)    \n",
    "    elif r == \"n\":\n",
    "\n",
    "        print(\"Bye\")\n",
    "        break"
   ]
  },
  {
   "cell_type": "code",
   "execution_count": null,
   "metadata": {
    "collapsed": false
   },
   "outputs": [],
   "source": [
    "book_id = \"0385472943\"\n",
    "\n",
    "name = \"The Runaway Jury\""
   ]
  },
  {
   "cell_type": "code",
   "execution_count": 27,
   "metadata": {
    "collapsed": false
   },
   "outputs": [
    {
     "data": {
      "text/plain": [
       "ISBN.1                                                        0385472943\n",
       "Book-Title                                              The Runaway Jury\n",
       "Book-Author                                                 JOHN GRISHAM\n",
       "Year-Of-Publication                                                 1996\n",
       "Publisher                                                      Doubleday\n",
       "Image-URL-S            http://images.amazon.com/images/P/0385472943.0...\n",
       "Image-URL-M            http://images.amazon.com/images/P/0385472943.0...\n",
       "Image-URL-L            http://images.amazon.com/images/P/0385472943.0...\n",
       "Name: 0385472943, dtype: object"
      ]
     },
     "execution_count": 27,
     "metadata": {},
     "output_type": "execute_result"
    }
   ],
   "source": [
    "books_dataFrame.loc[\"0385472943\"]"
   ]
  }
 ],
 "metadata": {
  "anaconda-cloud": {},
  "kernelspec": {
   "display_name": "Python [conda root]",
   "language": "python",
   "name": "conda-root-py"
  },
  "language_info": {
   "codemirror_mode": {
    "name": "ipython",
    "version": 3
   },
   "file_extension": ".py",
   "mimetype": "text/x-python",
   "name": "python",
   "nbconvert_exporter": "python",
   "pygments_lexer": "ipython3",
   "version": "3.5.2"
  }
 },
 "nbformat": 4,
 "nbformat_minor": 2
}
